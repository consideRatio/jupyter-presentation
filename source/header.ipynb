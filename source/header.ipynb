{
 "cells": [
  {
   "cell_type": "markdown",
   "metadata": {},
   "source": [
    "## General instructions\n",
    "\n",
    "#### Regarding notebooks.azure.com\n",
    "\n",
    "> __Preview / Edit__: You will be in preview mode unless you have made a copy of the notebook.\n",
    "\n",
    "> __Clone__: To get your own copy of the notebook and associated files, press clone and login.\n",
    "\n",
    "#### Regarding Jupyter Notebooks\n",
    "\n",
    "> __Markdown cells__: This cell is a [markdown](http://jupyter-notebook.readthedocs.io/en/stable/examples/Notebook/Working%20With%20Markdown%20Cells.html) cell, you can edit it by doubleclicking on it and render it again by pressing __Shift + Enter__. \n",
    "\n",
    "> __Code cells__: Code cells contain Python code, and can be run by pressing __Shift + Enter__. Code output shows up in an associated *output cell* below.\n",
    "\n",
    "#### Regarding these projects\n",
    "\n",
    "> __Questions__: You are supposed to answer questions, enter your answers in the markdown with the text YOUR ANSWER HERE.\n",
    "\n",
    "> __Implementations__: You are supposed to implement code according to instructions, where it sais `YOUR CODE HERE` (remove \"`raise NotImplementedError()`\" when you do).\n",
    "\n",
    "> __Finishing touches__: Before you submit your project.\n",
    "1. Enter NAME and COLLABORATORS below.\n",
    "2. Rerun the code by clicking **Kernel$\\rightarrow$Restart & Run All**"
   ]
  },
  {
   "cell_type": "code",
   "execution_count": null,
   "metadata": {
    "collapsed": true
   },
   "outputs": [],
   "source": [
    "NAME = \"\"\n",
    "COLLABORATORS = \"\""
   ]
  },
  {
   "cell_type": "markdown",
   "metadata": {},
   "source": [
    "---"
   ]
  }
 ],
 "metadata": {
  "kernelspec": {
   "display_name": "Python 3",
   "language": "python",
   "name": "python3"
  },
  "language_info": {
   "codemirror_mode": {
    "name": "ipython",
    "version": 3
   },
   "file_extension": ".py",
   "mimetype": "text/x-python",
   "name": "python",
   "nbconvert_exporter": "python",
   "pygments_lexer": "ipython3",
   "version": "3.6.1"
  }
 },
 "nbformat": 4,
 "nbformat_minor": 1
}
